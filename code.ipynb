{
  "cells": [
    {
      "cell_type": "markdown",
      "metadata": {
        "id": "YMKaoAVwKviP"
      },
      "source": [
        "# Libraries"
      ]
    },
    {
      "cell_type": "code",
      "execution_count": 29,
      "metadata": {
        "id": "09HWjusFOZkS"
      },
      "outputs": [],
      "source": [
        "import pandas as pd\n",
        "import numpy as np\n",
        "\n",
        "import tensorflow as tf\n",
        "from tensorflow.keras.models import Sequential\n",
        "from tensorflow.keras.layers import *\n",
        "from tensorflow.keras.callbacks import ModelCheckpoint\n",
        "from keras.callbacks import LearningRateScheduler\n",
        "from tensorflow.keras.optimizers import Adam\n",
        "from tensorflow.keras.models import load_model\n",
        "\n",
        "\n",
        "from tensorflow.keras.models import Sequential\n",
        "from tensorflow.keras.layers import Dense, Activation, Dropout\n",
        "from tensorflow.keras.optimizers import Adam\n",
        "from tensorflow import keras\n",
        "\n",
        "\n",
        "\n",
        "import matplotlib.pyplot as plt\n",
        "\n",
        "from sklearn.metrics import mean_squared_error\n",
        "from sklearn.metrics import mean_absolute_error\n",
        "from sklearn.metrics import mean_absolute_percentage_error\n",
        "from tensorflow.keras.metrics import RootMeanSquaredError\n",
        "\n",
        "from statsmodels.tsa.stattools import adfuller\n",
        "from statsmodels.graphics.tsaplots import plot_acf\n",
        "from statsmodels.tsa.seasonal import seasonal_decompose\n",
        "\n",
        "import json\n",
        "\n",
        "import os\n",
        "\n",
        "from google.colab import drive\n",
        "import os"
      ]
    },
    {
      "cell_type": "code",
      "execution_count": 30,
      "metadata": {
        "colab": {
          "base_uri": "https://localhost:8080/"
        },
        "id": "jMUWkLILyNgo",
        "outputId": "37fe800f-7f36-4609-d2eb-eaf7b0cc8765"
      },
      "outputs": [
        {
          "output_type": "stream",
          "name": "stdout",
          "text": [
            "Drive already mounted at /content/drive; to attempt to forcibly remount, call drive.mount(\"/content/drive\", force_remount=True).\n"
          ]
        }
      ],
      "source": [
        "drive.mount('/content/drive')\n",
        "os.chdir('/content/drive/MyDrive/ts')"
      ]
    },
    {
      "cell_type": "markdown",
      "metadata": {
        "id": "kL0s6ParDWV7"
      },
      "source": [
        "# Data Extraction"
      ]
    },
    {
      "cell_type": "code",
      "execution_count": 31,
      "metadata": {
        "id": "CO85NoeL4ffU"
      },
      "outputs": [],
      "source": [
        "df_1 = pd.read_csv('15900000-16200000.csv', parse_dates=[\"# datetime\"], index_col = \"# datetime\")\n",
        "df_1.index.names = ['dt']\n",
        "df_1.columns = [\"n_txn\", \"eth\", \"limit\", \"gas\"]\n",
        "del df_1[\"limit\"]\n",
        "\n",
        "df_2 = pd.read_csv('162000000-16440000.csv', parse_dates=[\"# datetime\"], index_col = \"# datetime\")\n",
        "df_2.index.names = ['dt']\n",
        "df_2.columns = [\"n_txn\", \"eth\", \"limit\", \"gas\"]\n",
        "del df_2[\"limit\"]\n",
        "\n",
        "df_3 = pd.read_csv('16440000-16500000.csv', parse_dates=[\"# datetime\"], index_col = \"# datetime\")\n",
        "df_3.index.names = ['dt']\n",
        "df_3.columns = [\"n_txn\", \"eth\", \"limit\", \"gas\"]\n",
        "del df_3[\"limit\"]\n",
        "\n",
        "\n",
        "df = pd.concat([df_1, df_2, df_3], axis = 0)"
      ]
    },
    {
      "cell_type": "code",
      "source": [
        "df.head() "
      ],
      "metadata": {
        "colab": {
          "base_uri": "https://localhost:8080/",
          "height": 237
        },
        "id": "AUCu25s-X8_6",
        "outputId": "1dde9eb1-11ec-4893-90ed-22b5b6d2242d"
      },
      "execution_count": 32,
      "outputs": [
        {
          "output_type": "execute_result",
          "data": {
            "text/plain": [
              "                     n_txn          eth           gas\n",
              "dt                                                   \n",
              "2022-11-05 00:40:47    140  1647.492702  1.050702e+10\n",
              "2022-11-05 00:40:59    133  1647.493372  1.031394e+10\n",
              "2022-11-05 00:41:11    133  1647.493372  1.156523e+10\n",
              "2022-11-05 00:41:23    120  1647.504291  1.130654e+10\n",
              "2022-11-05 00:41:35    129  1646.815941  1.118033e+10"
            ],
            "text/html": [
              "\n",
              "  <div id=\"df-a8355af3-3c36-436e-951b-c72e5c9719f4\">\n",
              "    <div class=\"colab-df-container\">\n",
              "      <div>\n",
              "<style scoped>\n",
              "    .dataframe tbody tr th:only-of-type {\n",
              "        vertical-align: middle;\n",
              "    }\n",
              "\n",
              "    .dataframe tbody tr th {\n",
              "        vertical-align: top;\n",
              "    }\n",
              "\n",
              "    .dataframe thead th {\n",
              "        text-align: right;\n",
              "    }\n",
              "</style>\n",
              "<table border=\"1\" class=\"dataframe\">\n",
              "  <thead>\n",
              "    <tr style=\"text-align: right;\">\n",
              "      <th></th>\n",
              "      <th>n_txn</th>\n",
              "      <th>eth</th>\n",
              "      <th>gas</th>\n",
              "    </tr>\n",
              "    <tr>\n",
              "      <th>dt</th>\n",
              "      <th></th>\n",
              "      <th></th>\n",
              "      <th></th>\n",
              "    </tr>\n",
              "  </thead>\n",
              "  <tbody>\n",
              "    <tr>\n",
              "      <th>2022-11-05 00:40:47</th>\n",
              "      <td>140</td>\n",
              "      <td>1647.492702</td>\n",
              "      <td>1.050702e+10</td>\n",
              "    </tr>\n",
              "    <tr>\n",
              "      <th>2022-11-05 00:40:59</th>\n",
              "      <td>133</td>\n",
              "      <td>1647.493372</td>\n",
              "      <td>1.031394e+10</td>\n",
              "    </tr>\n",
              "    <tr>\n",
              "      <th>2022-11-05 00:41:11</th>\n",
              "      <td>133</td>\n",
              "      <td>1647.493372</td>\n",
              "      <td>1.156523e+10</td>\n",
              "    </tr>\n",
              "    <tr>\n",
              "      <th>2022-11-05 00:41:23</th>\n",
              "      <td>120</td>\n",
              "      <td>1647.504291</td>\n",
              "      <td>1.130654e+10</td>\n",
              "    </tr>\n",
              "    <tr>\n",
              "      <th>2022-11-05 00:41:35</th>\n",
              "      <td>129</td>\n",
              "      <td>1646.815941</td>\n",
              "      <td>1.118033e+10</td>\n",
              "    </tr>\n",
              "  </tbody>\n",
              "</table>\n",
              "</div>\n",
              "      <button class=\"colab-df-convert\" onclick=\"convertToInteractive('df-a8355af3-3c36-436e-951b-c72e5c9719f4')\"\n",
              "              title=\"Convert this dataframe to an interactive table.\"\n",
              "              style=\"display:none;\">\n",
              "        \n",
              "  <svg xmlns=\"http://www.w3.org/2000/svg\" height=\"24px\"viewBox=\"0 0 24 24\"\n",
              "       width=\"24px\">\n",
              "    <path d=\"M0 0h24v24H0V0z\" fill=\"none\"/>\n",
              "    <path d=\"M18.56 5.44l.94 2.06.94-2.06 2.06-.94-2.06-.94-.94-2.06-.94 2.06-2.06.94zm-11 1L8.5 8.5l.94-2.06 2.06-.94-2.06-.94L8.5 2.5l-.94 2.06-2.06.94zm10 10l.94 2.06.94-2.06 2.06-.94-2.06-.94-.94-2.06-.94 2.06-2.06.94z\"/><path d=\"M17.41 7.96l-1.37-1.37c-.4-.4-.92-.59-1.43-.59-.52 0-1.04.2-1.43.59L10.3 9.45l-7.72 7.72c-.78.78-.78 2.05 0 2.83L4 21.41c.39.39.9.59 1.41.59.51 0 1.02-.2 1.41-.59l7.78-7.78 2.81-2.81c.8-.78.8-2.07 0-2.86zM5.41 20L4 18.59l7.72-7.72 1.47 1.35L5.41 20z\"/>\n",
              "  </svg>\n",
              "      </button>\n",
              "      \n",
              "  <style>\n",
              "    .colab-df-container {\n",
              "      display:flex;\n",
              "      flex-wrap:wrap;\n",
              "      gap: 12px;\n",
              "    }\n",
              "\n",
              "    .colab-df-convert {\n",
              "      background-color: #E8F0FE;\n",
              "      border: none;\n",
              "      border-radius: 50%;\n",
              "      cursor: pointer;\n",
              "      display: none;\n",
              "      fill: #1967D2;\n",
              "      height: 32px;\n",
              "      padding: 0 0 0 0;\n",
              "      width: 32px;\n",
              "    }\n",
              "\n",
              "    .colab-df-convert:hover {\n",
              "      background-color: #E2EBFA;\n",
              "      box-shadow: 0px 1px 2px rgba(60, 64, 67, 0.3), 0px 1px 3px 1px rgba(60, 64, 67, 0.15);\n",
              "      fill: #174EA6;\n",
              "    }\n",
              "\n",
              "    [theme=dark] .colab-df-convert {\n",
              "      background-color: #3B4455;\n",
              "      fill: #D2E3FC;\n",
              "    }\n",
              "\n",
              "    [theme=dark] .colab-df-convert:hover {\n",
              "      background-color: #434B5C;\n",
              "      box-shadow: 0px 1px 3px 1px rgba(0, 0, 0, 0.15);\n",
              "      filter: drop-shadow(0px 1px 2px rgba(0, 0, 0, 0.3));\n",
              "      fill: #FFFFFF;\n",
              "    }\n",
              "  </style>\n",
              "\n",
              "      <script>\n",
              "        const buttonEl =\n",
              "          document.querySelector('#df-a8355af3-3c36-436e-951b-c72e5c9719f4 button.colab-df-convert');\n",
              "        buttonEl.style.display =\n",
              "          google.colab.kernel.accessAllowed ? 'block' : 'none';\n",
              "\n",
              "        async function convertToInteractive(key) {\n",
              "          const element = document.querySelector('#df-a8355af3-3c36-436e-951b-c72e5c9719f4');\n",
              "          const dataTable =\n",
              "            await google.colab.kernel.invokeFunction('convertToInteractive',\n",
              "                                                     [key], {});\n",
              "          if (!dataTable) return;\n",
              "\n",
              "          const docLinkHtml = 'Like what you see? Visit the ' +\n",
              "            '<a target=\"_blank\" href=https://colab.research.google.com/notebooks/data_table.ipynb>data table notebook</a>'\n",
              "            + ' to learn more about interactive tables.';\n",
              "          element.innerHTML = '';\n",
              "          dataTable['output_type'] = 'display_data';\n",
              "          await google.colab.output.renderOutput(dataTable, element);\n",
              "          const docLink = document.createElement('div');\n",
              "          docLink.innerHTML = docLinkHtml;\n",
              "          element.appendChild(docLink);\n",
              "        }\n",
              "      </script>\n",
              "    </div>\n",
              "  </div>\n",
              "  "
            ]
          },
          "metadata": {},
          "execution_count": 32
        }
      ]
    },
    {
      "cell_type": "code",
      "source": [
        "df[\"gas\"] = df[\"gas\"] / 1000000000\n",
        "df.index = pd.to_datetime(df.index)\n",
        "df = df.resample('1T').mean()\n",
        "df = df[[\"gas\"]]"
      ],
      "metadata": {
        "id": "S69aTtaaX7L3"
      },
      "execution_count": 33,
      "outputs": []
    },
    {
      "cell_type": "code",
      "source": [
        "df.head()"
      ],
      "metadata": {
        "id": "g7I3s03DZ5PJ",
        "outputId": "3de18e34-14a2-4ade-a701-0cd292cad5ed",
        "colab": {
          "base_uri": "https://localhost:8080/",
          "height": 237
        }
      },
      "execution_count": 34,
      "outputs": [
        {
          "output_type": "execute_result",
          "data": {
            "text/plain": [
              "                           gas\n",
              "dt                            \n",
              "2022-11-05 00:40:00  10.410478\n",
              "2022-11-05 00:41:00  11.395897\n",
              "2022-11-05 00:42:00  11.727410\n",
              "2022-11-05 00:43:00  10.569524\n",
              "2022-11-05 00:44:00  11.760463"
            ],
            "text/html": [
              "\n",
              "  <div id=\"df-88bdea4f-fe52-402f-ba37-d9355783b0a1\">\n",
              "    <div class=\"colab-df-container\">\n",
              "      <div>\n",
              "<style scoped>\n",
              "    .dataframe tbody tr th:only-of-type {\n",
              "        vertical-align: middle;\n",
              "    }\n",
              "\n",
              "    .dataframe tbody tr th {\n",
              "        vertical-align: top;\n",
              "    }\n",
              "\n",
              "    .dataframe thead th {\n",
              "        text-align: right;\n",
              "    }\n",
              "</style>\n",
              "<table border=\"1\" class=\"dataframe\">\n",
              "  <thead>\n",
              "    <tr style=\"text-align: right;\">\n",
              "      <th></th>\n",
              "      <th>gas</th>\n",
              "    </tr>\n",
              "    <tr>\n",
              "      <th>dt</th>\n",
              "      <th></th>\n",
              "    </tr>\n",
              "  </thead>\n",
              "  <tbody>\n",
              "    <tr>\n",
              "      <th>2022-11-05 00:40:00</th>\n",
              "      <td>10.410478</td>\n",
              "    </tr>\n",
              "    <tr>\n",
              "      <th>2022-11-05 00:41:00</th>\n",
              "      <td>11.395897</td>\n",
              "    </tr>\n",
              "    <tr>\n",
              "      <th>2022-11-05 00:42:00</th>\n",
              "      <td>11.727410</td>\n",
              "    </tr>\n",
              "    <tr>\n",
              "      <th>2022-11-05 00:43:00</th>\n",
              "      <td>10.569524</td>\n",
              "    </tr>\n",
              "    <tr>\n",
              "      <th>2022-11-05 00:44:00</th>\n",
              "      <td>11.760463</td>\n",
              "    </tr>\n",
              "  </tbody>\n",
              "</table>\n",
              "</div>\n",
              "      <button class=\"colab-df-convert\" onclick=\"convertToInteractive('df-88bdea4f-fe52-402f-ba37-d9355783b0a1')\"\n",
              "              title=\"Convert this dataframe to an interactive table.\"\n",
              "              style=\"display:none;\">\n",
              "        \n",
              "  <svg xmlns=\"http://www.w3.org/2000/svg\" height=\"24px\"viewBox=\"0 0 24 24\"\n",
              "       width=\"24px\">\n",
              "    <path d=\"M0 0h24v24H0V0z\" fill=\"none\"/>\n",
              "    <path d=\"M18.56 5.44l.94 2.06.94-2.06 2.06-.94-2.06-.94-.94-2.06-.94 2.06-2.06.94zm-11 1L8.5 8.5l.94-2.06 2.06-.94-2.06-.94L8.5 2.5l-.94 2.06-2.06.94zm10 10l.94 2.06.94-2.06 2.06-.94-2.06-.94-.94-2.06-.94 2.06-2.06.94z\"/><path d=\"M17.41 7.96l-1.37-1.37c-.4-.4-.92-.59-1.43-.59-.52 0-1.04.2-1.43.59L10.3 9.45l-7.72 7.72c-.78.78-.78 2.05 0 2.83L4 21.41c.39.39.9.59 1.41.59.51 0 1.02-.2 1.41-.59l7.78-7.78 2.81-2.81c.8-.78.8-2.07 0-2.86zM5.41 20L4 18.59l7.72-7.72 1.47 1.35L5.41 20z\"/>\n",
              "  </svg>\n",
              "      </button>\n",
              "      \n",
              "  <style>\n",
              "    .colab-df-container {\n",
              "      display:flex;\n",
              "      flex-wrap:wrap;\n",
              "      gap: 12px;\n",
              "    }\n",
              "\n",
              "    .colab-df-convert {\n",
              "      background-color: #E8F0FE;\n",
              "      border: none;\n",
              "      border-radius: 50%;\n",
              "      cursor: pointer;\n",
              "      display: none;\n",
              "      fill: #1967D2;\n",
              "      height: 32px;\n",
              "      padding: 0 0 0 0;\n",
              "      width: 32px;\n",
              "    }\n",
              "\n",
              "    .colab-df-convert:hover {\n",
              "      background-color: #E2EBFA;\n",
              "      box-shadow: 0px 1px 2px rgba(60, 64, 67, 0.3), 0px 1px 3px 1px rgba(60, 64, 67, 0.15);\n",
              "      fill: #174EA6;\n",
              "    }\n",
              "\n",
              "    [theme=dark] .colab-df-convert {\n",
              "      background-color: #3B4455;\n",
              "      fill: #D2E3FC;\n",
              "    }\n",
              "\n",
              "    [theme=dark] .colab-df-convert:hover {\n",
              "      background-color: #434B5C;\n",
              "      box-shadow: 0px 1px 3px 1px rgba(0, 0, 0, 0.15);\n",
              "      filter: drop-shadow(0px 1px 2px rgba(0, 0, 0, 0.3));\n",
              "      fill: #FFFFFF;\n",
              "    }\n",
              "  </style>\n",
              "\n",
              "      <script>\n",
              "        const buttonEl =\n",
              "          document.querySelector('#df-88bdea4f-fe52-402f-ba37-d9355783b0a1 button.colab-df-convert');\n",
              "        buttonEl.style.display =\n",
              "          google.colab.kernel.accessAllowed ? 'block' : 'none';\n",
              "\n",
              "        async function convertToInteractive(key) {\n",
              "          const element = document.querySelector('#df-88bdea4f-fe52-402f-ba37-d9355783b0a1');\n",
              "          const dataTable =\n",
              "            await google.colab.kernel.invokeFunction('convertToInteractive',\n",
              "                                                     [key], {});\n",
              "          if (!dataTable) return;\n",
              "\n",
              "          const docLinkHtml = 'Like what you see? Visit the ' +\n",
              "            '<a target=\"_blank\" href=https://colab.research.google.com/notebooks/data_table.ipynb>data table notebook</a>'\n",
              "            + ' to learn more about interactive tables.';\n",
              "          element.innerHTML = '';\n",
              "          dataTable['output_type'] = 'display_data';\n",
              "          await google.colab.output.renderOutput(dataTable, element);\n",
              "          const docLink = document.createElement('div');\n",
              "          docLink.innerHTML = docLinkHtml;\n",
              "          element.appendChild(docLink);\n",
              "        }\n",
              "      </script>\n",
              "    </div>\n",
              "  </div>\n",
              "  "
            ]
          },
          "metadata": {},
          "execution_count": 34
        }
      ]
    },
    {
      "cell_type": "markdown",
      "metadata": {
        "id": "izWlfLpKc_sg"
      },
      "source": [
        "Train Test Split"
      ]
    },
    {
      "cell_type": "code",
      "execution_count": 35,
      "metadata": {
        "id": "a4RKcEOlID3l"
      },
      "outputs": [],
      "source": [
        "n = len(df)\n",
        "train_df = df[0:int(n*0.8)]\n",
        "test_df = df[int(n*0.8):]"
      ]
    },
    {
      "cell_type": "markdown",
      "metadata": {
        "id": "fgFCdK4oH8xk"
      },
      "source": [
        "# Pre Processing"
      ]
    },
    {
      "cell_type": "code",
      "execution_count": 36,
      "metadata": {
        "id": "ki06REbTa4MH"
      },
      "outputs": [],
      "source": [
        "# eliminate all value that are above a certain threshold\n",
        "\n",
        "train_df = train_df.loc[train_df[\"gas\"] < 300]"
      ]
    },
    {
      "cell_type": "code",
      "execution_count": 37,
      "metadata": {
        "colab": {
          "base_uri": "https://localhost:8080/",
          "height": 548
        },
        "id": "BJSWYLVYK9ak",
        "outputId": "0e3246e7-35f4-4eba-a63f-26ec046fc24b"
      },
      "outputs": [
        {
          "output_type": "execute_result",
          "data": {
            "text/plain": [
              "<Axes: xlabel='dt'>"
            ]
          },
          "metadata": {},
          "execution_count": 37
        },
        {
          "output_type": "display_data",
          "data": {
            "text/plain": [
              "<Figure size 1152x648 with 1 Axes>"
            ],
            "image/png": "[encoded data removed]"
          },
          "metadata": {
            "needs_background": "light"
          }
        }
      ],
      "source": [
        "train_df.plot(figsize = (16, 9))"
      ]
    },
    {
      "cell_type": "markdown",
      "metadata": {
        "id": "OcFtT95DFbxI"
      },
      "source": [
        "Check Stationarity"
      ]
    },
    {
      "cell_type": "code",
      "execution_count": 38,
      "metadata": {
        "id": "U3ls2kzLKrvD"
      },
      "outputs": [],
      "source": [
        "def check_stationarity(data):\n",
        "    result = adfuller(data['gas'])\n",
        "    print('ADF Statistic: {:.3f}'.format(result[0]))\n",
        "    print('p-value: {:.3f}'.format(result[1]))\n",
        "    print('Critical Values:')\n",
        "    for key, value in result[4].items():\n",
        "        print('\\t{}: {:.3f}'.format(key, value))\n",
        "    if result[1] > 0.05:\n",
        "        print('The time series is not stationary.')\n",
        "    else:\n",
        "        print('The time series is stationary.')"
      ]
    },
    {
      "cell_type": "code",
      "execution_count": 42,
      "metadata": {
        "colab": {
          "base_uri": "https://localhost:8080/"
        },
        "id": "faoIYEwx98-6",
        "outputId": "23647995-f60d-4e42-8116-38696d45f48e"
      },
      "outputs": [
        {
          "output_type": "stream",
          "name": "stdout",
          "text": [
            "ADF Statistic: -15.394\n",
            "p-value: 0.000\n",
            "Critical Values:\n",
            "\t1%: -3.430\n",
            "\t5%: -2.862\n",
            "\t10%: -2.567\n",
            "The time series is stationary.\n"
          ]
        }
      ],
      "source": [
        "check_stationarity(train_df)"
      ]
    },
    {
      "cell_type": "markdown",
      "metadata": {
        "id": "WTH0JDha_brl"
      },
      "source": [
        "Check Autocorrelation"
      ]
    },
    {
      "cell_type": "code",
      "execution_count": 39,
      "metadata": {
        "id": "kMolNCb6_c8I",
        "colab": {
          "base_uri": "https://localhost:8080/",
          "height": 553
        },
        "outputId": "95e4564a-f77a-46cb-8019-7306590807bf"
      },
      "outputs": [
        {
          "output_type": "display_data",
          "data": {
            "text/plain": [
              "<Figure size 1152x648 with 1 Axes>"
            ],
            "image/png": "[encoded data removed]"
          },
          "metadata": {
            "needs_background": "light"
          }
        }
      ],
      "source": [
        "fig, ax = plt.subplots(figsize=(16, 9))\n",
        "lags = 20160\n",
        "plot_acf(train_df['gas'], lags=20160, ax = ax) # 2 weeks in minutes\n",
        "plt.xticks(range(0, lags, 1000))\n",
        "plt.savefig(\"acf\")\n",
        "plt.show()"
      ]
    },
    {
      "cell_type": "code",
      "execution_count": 43,
      "metadata": {
        "colab": {
          "base_uri": "https://localhost:8080/",
          "height": 602
        },
        "id": "xm9VOhjfEr_Y",
        "outputId": "33297a12-72d3-4baa-8d25-f4201ea82bc3"
      },
      "outputs": [
        {
          "output_type": "display_data",
          "data": {
            "text/plain": [
              "<Figure size 1152x648 with 4 Axes>"
            ],
            "image/png": "[encoded data removed]"
          },
          "metadata": {
            "needs_background": "light"
          }
        }
      ],
      "source": [
        "plt.rcParams['figure.figsize'] = [16, 9]\n",
        "\n",
        "\n",
        "decomposition = seasonal_decompose(df[\"gas\"], model='additive', period=lags)\n",
        "\n",
        "fig, axes = plt.subplots(nrows=4, ncols=1, figsize=(16, 9))\n",
        "axes[0].plot(decomposition.observed)\n",
        "axes[0].set_title(\"Observed\")\n",
        "axes[1].plot(decomposition.trend)\n",
        "axes[1].set_title(\"Trend\")\n",
        "axes[2].plot(decomposition.seasonal)\n",
        "axes[2].set_title(\"Seasonal\")\n",
        "axes[3].plot(decomposition.resid)\n",
        "axes[3].set_title(\"Residual\")\n",
        "fig.suptitle(\"Seasonal Decomposition\", fontsize=16)\n",
        "fig.subplots_adjust(hspace=0.5)\n",
        "plt.savefig(\"trends.png\", dpi=300)\n",
        "plt.show()"
      ]
    },
    {
      "cell_type": "code",
      "execution_count": 44,
      "metadata": {
        "colab": {
          "base_uri": "https://localhost:8080/"
        },
        "id": "PuWiT04VG7wD",
        "outputId": "39074715-6718-4289-9fba-652a3aea3c26"
      },
      "outputs": [
        {
          "output_type": "stream",
          "name": "stdout",
          "text": [
            "Residual mean: -0.2998301907494508\n",
            "Residual standard deviation: 6.860316381627869\n",
            "Residual autocorrelation: 0.96871395082133\n"
          ]
        }
      ],
      "source": [
        "mean = decomposition.resid.mean()\n",
        "std = decomposition.resid.std()\n",
        "autocorrelation = decomposition.resid.autocorr()\n",
        "\n",
        "print(f\"Residual mean: {mean}\")\n",
        "print(f\"Residual standard deviation: {std}\")\n",
        "print(f\"Residual autocorrelation: {autocorrelation}\")"
      ]
    },
    {
      "cell_type": "markdown",
      "metadata": {
        "id": "kUqDHTeRK3EN"
      },
      "source": [
        "## Windowing"
      ]
    },
    {
      "cell_type": "code",
      "execution_count": 45,
      "metadata": {
        "id": "djeRlUr7SDWh"
      },
      "outputs": [],
      "source": [
        "def split_sequence(sequence, n_steps):\n",
        "  X, y = list(), list()\n",
        "  for i in range(len(sequence)):\n",
        "    end_ix = i + n_steps\n",
        "    if end_ix > len(sequence)-1:\n",
        "     break\n",
        "    seq_x, seq_y = sequence[i:end_ix], sequence[end_ix]\n",
        "    X.append(seq_x)\n",
        "    y.append(seq_y)\n",
        "    \n",
        "  return np.array(X), np.array(y)"
      ]
    },
    {
      "cell_type": "code",
      "execution_count": 59,
      "metadata": {
        "id": "GjFj28aVYEOM"
      },
      "outputs": [],
      "source": [
        "# choose a number of time steps\n",
        "n_steps = 3\n",
        "n_features = 1\n",
        "\n",
        "X_train, y_train = split_sequence(train_df[\"gas\"], n_steps)\n",
        "X_train_reshaped = X_train.reshape((X_train.shape[0], X_train.shape[1], n_features))\n",
        "y_train_reshaped = y_train.reshape(y_train.shape[0], 1)\n",
        "\n",
        "X_test, y_test = split_sequence(test_df[\"gas\"], n_steps)\n",
        "X_test_reshaped = X_test.reshape((X_test.shape[0], X_train.shape[1], n_features))\n",
        "y_test_reshaped = y_test.reshape(y_test.shape[0], 1)"
      ]
    },
    {
      "cell_type": "code",
      "execution_count": 47,
      "metadata": {
        "id": "UVB_j9ZjVPS4"
      },
      "outputs": [],
      "source": [
        "MAX_EPOCHS = 100\n",
        "early_stopping = tf.keras.callbacks.EarlyStopping(monitor='val_loss', patience=2, mode='min')"
      ]
    },
    {
      "cell_type": "code",
      "execution_count": 48,
      "metadata": {
        "id": "aRqu9DKXVQ33"
      },
      "outputs": [],
      "source": [
        "def single_compile_fit(model, X_train_reshaped, y_train, checkpoint_path):\n",
        "\n",
        "  checkpoint_callback = tf.keras.callbacks.ModelCheckpoint(\n",
        "      filepath=checkpoint_path,\n",
        "      save_weights_only=True,\n",
        "      save_best_only=True,\n",
        "      monitor='val_loss',\n",
        "      mode='min',\n",
        "      verbose=1\n",
        "  )\n",
        "\n",
        "  model.compile(loss=tf.keras.losses.MeanSquaredError(), optimizer=opt, metrics=[tf.keras.metrics.MeanAbsoluteError(), tf.keras.metrics.MeanAbsolutePercentageError()])\n",
        "  history = model.fit(\n",
        "      X_train_reshaped, y_train,\n",
        "      batch_size=32, epochs=MAX_EPOCHS,\n",
        "      validation_split=0.2, shuffle=False,\n",
        "      callbacks=[early_stopping, checkpoint_callback]\n",
        "  )\n",
        "\n",
        "  return history"
      ]
    },
    {
      "cell_type": "code",
      "execution_count": 49,
      "metadata": {
        "id": "VCSc2vrDVSlk"
      },
      "outputs": [],
      "source": [
        "def metrics(model):\n",
        "\n",
        "  MSE = mean_squared_error(model.predict(X_test_reshaped), y_test_reshaped, squared = True)\n",
        "  RMSE = mean_squared_error(model.predict(X_test_reshaped), y_test_reshaped, squared = False)\n",
        "  MAPE = mean_absolute_percentage_error(model.predict(X_test_reshaped), y_test_reshaped)\n",
        "  MAE = mean_absolute_error(model.predict(X_test_reshaped), y_test_reshaped)\n",
        "\n",
        "  return print(\"MSE: \" + str(round(MSE, 3)) + \" RMSE: \" + str(round(RMSE, 3)) + \" MAPE: \"+ str(round(MAPE, 3)) + \" MAE: \" + str(round(MAE, 3)))"
      ]
    },
    {
      "cell_type": "markdown",
      "metadata": {
        "id": "MVUTfatyK1Gp"
      },
      "source": [
        "# Modeling "
      ]
    },
    {
      "cell_type": "markdown",
      "metadata": {
        "id": "o-GLy9HkTZlr"
      },
      "source": [
        "## Single - Step"
      ]
    },
    {
      "cell_type": "markdown",
      "metadata": {
        "id": "ZQsmS0hxZ3TJ"
      },
      "source": [
        "### 1440_1"
      ]
    },
    {
      "cell_type": "code",
      "execution_count": null,
      "metadata": {
        "id": "YxQ33dj9ZpwH"
      },
      "outputs": [],
      "source": [
        "vanilla_ss1440_1 = Sequential()\n",
        "vanilla_ss1440_1.add(LSTM(32, activation='tanh', return_sequences=False, input_shape=(n_steps, n_features)))\n",
        "vanilla_ss1440_1.add(Dropout(0.1))\n",
        "vanilla_ss1440_1.add(Dense(1))\n",
        "\n",
        "opt = Adam(learning_rate = 0.001)\n",
        "\n",
        "h_vanilla_ss1440_1 = single_compile_fit(vanilla_ss1440_1, X_train_reshaped, y_train)"
      ]
    },
    {
      "cell_type": "code",
      "execution_count": 50,
      "metadata": {
        "id": "uiYFFtMqLJCO"
      },
      "outputs": [],
      "source": [
        "vanilla_ss1440_1 = load_model(\"vanilla_ss1440_1.h5\")\n",
        "\n",
        "with open(\"h_vanilla_ss1440_1.json\") as f:\n",
        "    h_vanilla_ss1440_1 = json.load(f)"
      ]
    },
    {
      "cell_type": "code",
      "execution_count": 51,
      "metadata": {
        "colab": {
          "base_uri": "https://localhost:8080/"
        },
        "id": "vCvm4caAPZvS",
        "outputId": "6bfe7dff-0a37-410c-a9cb-327626b19989"
      },
      "outputs": [
        {
          "output_type": "stream",
          "name": "stdout",
          "text": [
            "710/710 [==============================] - 13s 17ms/step\n",
            "710/710 [==============================] - 16s 23ms/step\n",
            "710/710 [==============================] - 13s 19ms/step\n",
            "710/710 [==============================] - 30s 43ms/step\n",
            "MSE: 18.032 RMSE: 4.246 MAPE: 0.048 MAE: 1.141\n"
          ]
        }
      ],
      "source": [
        "metrics(vanilla_ss1440_1)"
      ]
    },
    {
      "cell_type": "code",
      "execution_count": null,
      "metadata": {
        "colab": {
          "base_uri": "https://localhost:8080/",
          "height": 567
        },
        "id": "wTutGeqouIQn",
        "outputId": "b88873af-a7fd-46e4-8d72-f03b7653d87f"
      },
      "outputs": [
        {
          "output_type": "display_data",
          "data": {
            "text/plain": [
              "<Figure size 1152x648 with 1 Axes>"
            ],
            "image/png": "[encoded data removed]"
          },
          "metadata": {
            "needs_background": "light"
          }
        }
      ],
      "source": [
        "loss = h_vanilla_ss1440_1['loss']\n",
        "val_loss = h_vanilla_ss1440_1['val_loss']\n",
        "\n",
        "epochs1 = range(1, len(loss) + 1)\n",
        "\n",
        "fig = plt.figure(figsize=(16, 9))\n",
        "plt.plot(epochs1, loss, 'bo-', label='1440_1, MSE Train')\n",
        "plt.plot(epochs1, val_loss, 'ro-', label='1440_1 MSE Validation')\n",
        "plt.title('Vanilla Single-Step: MSE Training & Validation')\n",
        "plt.xlabel('Epochs')\n",
        "plt.ylabel('Loss')\n",
        "plt.legend()\n",
        "plt.yticks(ticks = range(0, 250, 10))\n",
        "plt.show()"
      ]
    },
    {
      "cell_type": "code",
      "execution_count": null,
      "metadata": {
        "id": "hENfFs4rZzPo"
      },
      "outputs": [],
      "source": [
        "deep_ss1440_1 = Sequential()\n",
        "deep_ss1440_1.add(LSTM(64, activation='tanh', return_sequences=True, input_shape=(n_steps, n_features)))\n",
        "deep_ss1440_1.add(Dropout(0.1))\n",
        "\n",
        "deep_ss1440_1.add(LSTM(32, activation='tanh', return_sequences=True))\n",
        "deep_ss1440_1.add(Dropout(0.1))\n",
        "\n",
        "deep_ss1440_1.add(LSTM(16, activation='tanh'))\n",
        "deep_ss1440_1.add(Dropout(0.1))\n",
        "\n",
        "deep_ss1440_1.add(Dense(32, activation='tanh'))\n",
        "deep_ss1440_1.add(Dropout(0.1))\n",
        "\n",
        "deep_ss1440_1.add(Dense(1))\n",
        "\n",
        "opt = Adam(learning_rate = 0.001)\n",
        "\n",
        "h_deep_ss1440_1 = single_compile_fit(deep_ss1440_1, X_train_reshaped, y_train)\n"
      ]
    },
    {
      "cell_type": "markdown",
      "metadata": {
        "id": "olHbWWvvZ5s-"
      },
      "source": [
        "60_1"
      ]
    },
    {
      "cell_type": "code",
      "execution_count": null,
      "metadata": {
        "id": "wlc3PpnmZ_hg"
      },
      "outputs": [],
      "source": [
        "vanilla_ss60_1 = Sequential()\n",
        "vanilla_ss60_1.add(LSTM(32, activation='tanh', return_sequences=False, input_shape=(n_steps, n_features)))\n",
        "vanilla_ss60_1.add(Dropout(0.1))\n",
        "vanilla_ss60_1.add(Dense(1))\n",
        "\n",
        "opt = Adam(learning_rate = 0.001)\n",
        "\n",
        "h_vanilla_ss60_1 = single_compile_fit(vanilla_ss60_1, X_train_reshaped, y_train)"
      ]
    },
    {
      "cell_type": "code",
      "execution_count": 55,
      "metadata": {
        "id": "6-cRtIPwoc3H"
      },
      "outputs": [],
      "source": [
        "vanilla_ss60_1 = load_model(\"vanilla_ss60_1.h5\")\n",
        "\n",
        "with open(\"h_vanilla_ss60_1.json\") as f:\n",
        "    h_vanilla_ss60_1 = json.load(f)"
      ]
    },
    {
      "cell_type": "code",
      "execution_count": 56,
      "metadata": {
        "colab": {
          "base_uri": "https://localhost:8080/"
        },
        "id": "mFmdIysdRhbE",
        "outputId": "a66060fa-9a42-4691-b663-878d49cb167d"
      },
      "outputs": [
        {
          "output_type": "stream",
          "name": "stdout",
          "text": [
            "753/753 [==============================] - 3s 3ms/step\n",
            "753/753 [==============================] - 2s 3ms/step\n",
            "753/753 [==============================] - 2s 3ms/step\n",
            "753/753 [==============================] - 3s 4ms/step\n",
            "MSE: 17.905 RMSE: 4.231 MAPE: 0.052 MAE: 1.178\n"
          ]
        }
      ],
      "source": [
        "metrics(vanilla_ss60_1)"
      ]
    },
    {
      "cell_type": "code",
      "execution_count": null,
      "metadata": {
        "id": "ZghhpyhhaBd4"
      },
      "outputs": [],
      "source": [
        "deep_ss60_1 = Sequential()\n",
        "deep_ss60_1.add(LSTM(64, activation='tanh', return_sequences=True, input_shape=(n_steps, n_features)))\n",
        "deep_ss60_1.add(Dropout(0.1))\n",
        "\n",
        "deep_ss60_1.add(LSTM(32, activation='tanh', return_sequences=True))\n",
        "deep_ss60_1.add(Dropout(0.1))\n",
        "\n",
        "deep_ss60_1.add(LSTM(16, activation='tanh'))\n",
        "deep_ss60_1.add(Dropout(0.1))\n",
        "\n",
        "deep_ss60_1.add(Dense(32, activation='tanh'))\n",
        "deep_ss60_1.add(Dropout(0.1))\n",
        "\n",
        "deep_ss60_1.add(Dense(1))\n",
        "\n",
        "opt = Adam(learning_rate = 0.001)\n",
        "\n",
        "h_deep_ss60_1 = single_compile_fit(deep_ss60_1, X_train_reshaped, y_train)"
      ]
    },
    {
      "cell_type": "code",
      "execution_count": 57,
      "metadata": {
        "id": "0ZfALfUNo41y"
      },
      "outputs": [],
      "source": [
        "deep_ss60_1 = load_model(\"deep_ss60_1.h5\")\n",
        "\n",
        "with open(\"h_deep_ss60_1.json\") as f:\n",
        "    h_deep_ss60_1 = json.load(f)"
      ]
    },
    {
      "cell_type": "code",
      "execution_count": 58,
      "metadata": {
        "colab": {
          "base_uri": "https://localhost:8080/"
        },
        "id": "E3x3ItioR1pa",
        "outputId": "bd050904-186a-4e79-937d-62f3a4bb7dee"
      },
      "outputs": [
        {
          "output_type": "stream",
          "name": "stdout",
          "text": [
            "753/753 [==============================] - 8s 9ms/step\n",
            "753/753 [==============================] - 6s 8ms/step\n",
            "753/753 [==============================] - 5s 6ms/step\n",
            "753/753 [==============================] - 5s 6ms/step\n",
            "MSE: 21.726 RMSE: 4.661 MAPE: 0.069 MAE: 1.538\n"
          ]
        }
      ],
      "source": [
        "metrics(deep_ss60_1)"
      ]
    },
    {
      "cell_type": "markdown",
      "metadata": {
        "id": "252-knHHaC6C"
      },
      "source": [
        "3_1"
      ]
    },
    {
      "cell_type": "code",
      "execution_count": null,
      "metadata": {
        "id": "9Jzztqy5aDzt"
      },
      "outputs": [],
      "source": [
        "vanilla_ss3_1 = Sequential()\n",
        "vanilla_ss3_1.add(LSTM(32, activation='tanh', return_sequences=False, input_shape=(n_steps, n_features)))\n",
        "vanilla_ss3_1.add(Dropout(0.1))\n",
        "vanilla_ss3_1.add(Dense(1))\n",
        "\n",
        "opt = Adam(learning_rate = 0.001)\n",
        "\n",
        "h_vanilla_ss3_1 = single_compile_fit(vanilla_ss3_1, X_train_reshaped, y_train)"
      ]
    },
    {
      "cell_type": "code",
      "execution_count": 60,
      "metadata": {
        "id": "wyNByQAZpBsg"
      },
      "outputs": [],
      "source": [
        "vanilla_ss3_1 = load_model(\"vanilla_ss3_1.h5\")\n",
        "\n",
        "with open(\"h_vanilla_ss3_1.json\") as f:\n",
        "    h_vanilla_ss3_1 = json.load(f)"
      ]
    },
    {
      "cell_type": "code",
      "execution_count": 61,
      "metadata": {
        "colab": {
          "base_uri": "https://localhost:8080/"
        },
        "id": "3Nx-PhnPR8TB",
        "outputId": "a877ba9c-60cc-4e83-e8c0-305ddc84094c"
      },
      "outputs": [
        {
          "output_type": "stream",
          "name": "stdout",
          "text": [
            "755/755 [==============================] - 2s 2ms/step\n",
            "755/755 [==============================] - 1s 2ms/step\n",
            "755/755 [==============================] - 2s 2ms/step\n",
            "755/755 [==============================] - 2s 3ms/step\n",
            "MSE: 18.727 RMSE: 4.327 MAPE: 0.066 MAE: 1.485\n"
          ]
        }
      ],
      "source": [
        "metrics(vanilla_ss3_1)"
      ]
    },
    {
      "cell_type": "code",
      "execution_count": null,
      "metadata": {
        "id": "i_hbRgw9aIvy"
      },
      "outputs": [],
      "source": [
        "deep_ss3_1 = Sequential()\n",
        "deep_ss3_1.add(LSTM(64, activation='tanh', return_sequences=True, input_shape=(n_steps, n_features)))\n",
        "deep_ss3_1.add(Dropout(0.1))\n",
        "\n",
        "deep_ss3_1.add(LSTM(32, activation='tanh', return_sequences=True))\n",
        "deep_ss3_1.add(Dropout(0.1))\n",
        "\n",
        "deep_ss3_1.add(LSTM(16, activation='tanh'))\n",
        "deep_ss3_1.add(Dropout(0.1))\n",
        "\n",
        "deep_ss3_1.add(Dense(32, activation='tanh'))\n",
        "deep_ss3_1.add(Dropout(0.1))\n",
        "\n",
        "deep_ss3_1.add(Dense(1))\n",
        "\n",
        "opt = Adam(learning_rate = 0.001)\n",
        "\n",
        "h_deep_ss3_1 = single_compile_fit(deep_ss3_1, X_train_reshaped, y_train)"
      ]
    },
    {
      "cell_type": "code",
      "execution_count": 62,
      "metadata": {
        "id": "-xA0iEYKo_A0"
      },
      "outputs": [],
      "source": [
        "deep_ss3_1 = load_model(\"deep_ss3_1.h5\")\n",
        "\n",
        "with open(\"h_deep_ss3_1.json\") as f:\n",
        "    h_deep_ss3_1 = json.load(f)"
      ]
    },
    {
      "cell_type": "code",
      "execution_count": 63,
      "metadata": {
        "colab": {
          "base_uri": "https://localhost:8080/"
        },
        "id": "AQ6EnC4pR-pc",
        "outputId": "53fdbcf1-3c3c-48bd-eeca-5137711df170"
      },
      "outputs": [
        {
          "output_type": "stream",
          "name": "stdout",
          "text": [
            "755/755 [==============================] - 3s 3ms/step\n",
            "755/755 [==============================] - 2s 3ms/step\n",
            "755/755 [==============================] - 5s 6ms/step\n",
            "755/755 [==============================] - 4s 5ms/step\n",
            "MSE: 21.464 RMSE: 4.633 MAPE: 0.07 MAE: 1.609\n"
          ]
        }
      ],
      "source": [
        "metrics(deep_ss3_1)"
      ]
    },
    {
      "cell_type": "code",
      "execution_count": null,
      "metadata": {
        "colab": {
          "base_uri": "https://localhost:8080/",
          "height": 481
        },
        "id": "j1XfyJfxva32",
        "outputId": "80ae3b10-1ec4-4f4f-8ff1-995e7b3ea867"
      },
      "outputs": [
        {
          "data": {
            "image/png": "[encoded data removed]",
            "text/plain": [
              "<Figure size 1152x648 with 1 Axes>"
            ]
          },
          "metadata": {},
          "output_type": "display_data"
        }
      ],
      "source": [
        "loss = h_deep_ss3_1['loss']\n",
        "val_loss = h_deep_ss3_1['val_loss']\n",
        "\n",
        "epochs1 = range(1, len(loss) + 1)\n",
        "\n",
        "fig = plt.figure(figsize=(16, 9))\n",
        "plt.plot(epochs1, loss, 'bo-', label='3_1, MSE Train')\n",
        "plt.plot(epochs1, val_loss, 'ro-', label='3_1 MSE Validation')\n",
        "plt.title('Deep Single-Step: MSE Training & Validation')\n",
        "plt.xlabel('Epochs')\n",
        "plt.ylabel('Loss')\n",
        "plt.legend()\n",
        "plt.yticks(ticks = range(0, 250, 10))\n",
        "plt.show()"
      ]
    },
    {
      "cell_type": "markdown",
      "metadata": {
        "id": "6iiU2dv_ebp6"
      },
      "source": [
        "Saving Results"
      ]
    },
    {
      "cell_type": "code",
      "execution_count": null,
      "metadata": {
        "id": "0Gsciqw7e6w2"
      },
      "outputs": [],
      "source": [
        "vanillas_list = [\n",
        "    ('vanilla_ss1440_1', h_vanilla_ss1440_1),\n",
        "    ('vanilla_ss60_1', h_vanilla_ss60_1),\n",
        "    ('vanilla_ss3_1', h_vanilla_ss3_1)]\n",
        "\n",
        "ss_vanillas_dict = {}\n",
        "\n",
        "for var_name, _ in vanillas_list:\n",
        "    ss_vanillas_dict[var_name] = []\n",
        "\n",
        "for var_name, element in vanillas_list:\n",
        "    for key in element.keys():\n",
        "        ss_vanillas_dict[var_name].append({key : element[key][-1]})"
      ]
    },
    {
      "cell_type": "code",
      "execution_count": null,
      "metadata": {
        "id": "a-h3QYPqfBFv"
      },
      "outputs": [],
      "source": [
        "deep_list = [\n",
        "    ('deep_ss1440_1', h_deep_ss1440_1),\n",
        "    ('deep_ss60_1', h_deep_ss60_1),\n",
        "    ('deep_ss3_1', h_deep_ss3_1)]\n",
        "\n",
        "ss_deep_dict = {}\n",
        "\n",
        "for var_name, _ in deep_list:\n",
        "    ss_deep_dict[var_name] = []\n",
        "\n",
        "for var_name, element in deep_list:\n",
        "    for key in element.keys():\n",
        "        ss_deep_dict[var_name].append({key : element[key][-1]})"
      ]
    },
    {
      "cell_type": "markdown",
      "metadata": {
        "id": "vNJfeyynZLR7"
      },
      "source": [
        "# Multi Step Approach"
      ]
    },
    {
      "cell_type": "code",
      "execution_count": 64,
      "metadata": {
        "id": "LoaqPLvrgLe4"
      },
      "outputs": [],
      "source": [
        "def split_sequence_multistep(sequence, n_steps_in, n_steps_out):\n",
        "  X, y = list(), list()\n",
        "  for i in range(len(sequence)):\n",
        "    # find the end of this pattern\n",
        "    end_ix = i + n_steps_in\n",
        "    out_end_ix = end_ix + n_steps_out\n",
        "    # check if we are beyond the sequence\n",
        "    if out_end_ix > len(sequence):\n",
        "      break\n",
        "    # gather input and output parts of the pattern\n",
        "    seq_x, seq_y = sequence[i:end_ix], sequence[end_ix:out_end_ix]\n",
        "    X.append(seq_x)\n",
        "    y.append(seq_y)\n",
        "  return np.array(X), np.array(y)"
      ]
    },
    {
      "cell_type": "code",
      "execution_count": 80,
      "metadata": {
        "id": "7FtzIIyhgtYT"
      },
      "outputs": [],
      "source": [
        "n_steps_in = 1440\n",
        "n_steps_out = 60\n",
        "n_features = 1\n",
        "\n",
        "X_train_m, y_train_m = split_sequence_multistep(train_df[\"gas\"], n_steps_in, n_steps_out)\n",
        "X_train_m_reshaped = X_train_m.reshape((X_train_m.shape[0], X_train_m.shape[1], n_features))\n",
        "X_test_m, y_test_m = split_sequence_multistep(test_df[\"gas\"], n_steps_in, n_steps_out)\n",
        "\n",
        "X_test_m_reshaped = X_test_m.reshape((X_test_m.shape[0], X_test_m.shape[1], n_features))"
      ]
    },
    {
      "cell_type": "code",
      "execution_count": null,
      "metadata": {
        "id": "ZafbqF8hW041"
      },
      "outputs": [],
      "source": [
        "def multi_compile_fit(model, X_train_m_reshaped, y_train_m, checkpoint_path):\n",
        "\n",
        "  checkpoint_callback = tf.keras.callbacks.ModelCheckpoint(\n",
        "      filepath=checkpoint_path,\n",
        "      save_weights_only=True,\n",
        "      save_best_only=True,\n",
        "      overwrite = True,\n",
        "      monitor='val_loss',\n",
        "      mode='min',\n",
        "      verbose=1\n",
        "  )\n",
        "\n",
        "  model.compile(loss=tf.keras.losses.MeanSquaredError(), optimizer=opt, metrics=[tf.keras.metrics.MeanAbsoluteError(), tf.keras.metrics.MeanAbsolutePercentageError()])\n",
        "  history = model.fit(\n",
        "      X_train_m_reshaped, y_train_m,\n",
        "      batch_size=32, epochs=MAX_EPOCHS,\n",
        "      validation_split=0.2, shuffle=False,\n",
        "      callbacks=[early_stopping, checkpoint_callback]\n",
        "  )\n",
        "\n",
        "  return history"
      ]
    },
    {
      "cell_type": "code",
      "execution_count": 66,
      "metadata": {
        "id": "l5syH0JpXFJg"
      },
      "outputs": [],
      "source": [
        "def multi_metrics(model):\n",
        "\n",
        "  MSE = mean_squared_error(model.predict(X_test_m_reshaped), y_test_m, squared = True)\n",
        "  RMSE = mean_squared_error(model.predict(X_test_m_reshaped), y_test_m, squared = False)\n",
        "  MAPE = mean_absolute_percentage_error(model.predict(X_test_m_reshaped), y_test_m)\n",
        "  MAE = mean_absolute_error(model.predict(X_test_m_reshaped), y_test_m)\n",
        "\n",
        "  return print(\"MSE: \" + str(round(MSE, 3)) + \" RMSE: \" + str(round(RMSE, 3)) + \" MAPE: \"+ str(round(MAPE, 3)) + \" MAE: \" + str(round(MAE, 3)))"
      ]
    },
    {
      "cell_type": "markdown",
      "metadata": {
        "id": "1PBl0PERNxgP"
      },
      "source": [
        "### Multi-Step Approach"
      ]
    },
    {
      "cell_type": "markdown",
      "metadata": {
        "id": "SN6Qu9tNN04X"
      },
      "source": [
        "###1440_60"
      ]
    },
    {
      "cell_type": "code",
      "execution_count": null,
      "metadata": {
        "id": "VpzEA8ddj0-i"
      },
      "outputs": [],
      "source": [
        "vanilla_ms1440_60 = Sequential()\n",
        "vanilla_ms1440_60.add(LSTM(32, activation='tanh', return_sequences=False, input_shape=(n_steps_in, n_features)))\n",
        "vanilla_ms1440_60.add(Dropout(0.1))\n",
        "vanilla_ms1440_60.add(Dense(n_steps_out))\n",
        "\n",
        "opt = Adam(learning_rate = 0.001)\n",
        "\n",
        "h_vanilla_ms1440_60 = multi_compile_fit(vanilla_ms1440_60, X_train_m_reshaped, y_train_m)"
      ]
    },
    {
      "cell_type": "code",
      "execution_count": 67,
      "metadata": {
        "id": "rpUKvmYGXWN4"
      },
      "outputs": [],
      "source": [
        "vanilla_ms1440_60 = load_model(\"vanilla_ms1440_60.h5\")\n",
        "\n",
        "with open(\"h_vanilla_ms1440_60.json\") as f:\n",
        "    h_vanilla_ms1440_60 = json.load(f)"
      ]
    },
    {
      "cell_type": "code",
      "execution_count": 68,
      "metadata": {
        "colab": {
          "base_uri": "https://localhost:8080/"
        },
        "id": "8-CWLa8HS1Ph",
        "outputId": "748e4f39-4ed8-4eb4-fb6f-7098010a29ea"
      },
      "outputs": [
        {
          "output_type": "stream",
          "name": "stdout",
          "text": [
            "708/708 [==============================] - 17s 24ms/step\n",
            "708/708 [==============================] - 12s 16ms/step\n",
            "708/708 [==============================] - 18s 25ms/step\n",
            "708/708 [==============================] - 12s 17ms/step\n",
            "MSE: 106.911 RMSE: 10.312 MAPE: 0.198 MAE: 3.915\n"
          ]
        }
      ],
      "source": [
        "multi_metrics(vanilla_ms1440_60)"
      ]
    },
    {
      "cell_type": "code",
      "execution_count": null,
      "metadata": {
        "id": "CyaRRP29TJ-_"
      },
      "outputs": [],
      "source": [
        "deep_ms1440_60 = Sequential()\n",
        "deep_ms1440_60.add(LSTM(64, activation='tanh', return_sequences=True, input_shape=(n_steps_in, n_features)))\n",
        "deep_ms1440_60.add(Dropout(0.1))\n",
        "\n",
        "deep_ms1440_60.add(LSTM(32, activation='tanh', return_sequences=True))\n",
        "deep_ms1440_60.add(Dropout(0.1))\n",
        "\n",
        "deep_ms1440_60.add(LSTM(16, activation='tanh'))\n",
        "deep_ms1440_60.add(Dropout(0.1))\n",
        "\n",
        "deep_ms1440_60.add(Dense(32, activation='tanh'))\n",
        "deep_ms1440_60.add(Dropout(0.1))\n",
        "\n",
        "deep_ms1440_60.add(Dense(n_steps_out))\n",
        "\n",
        "opt = Adam(learning_rate = 0.001)\n",
        "\n",
        "h_deep_ms1440_60 = multi_compile_fit(deep_ms1440_60, X_train_m_reshaped, y_train_m)"
      ]
    },
    {
      "cell_type": "code",
      "execution_count": 69,
      "metadata": {
        "id": "ovMzPuLtUN__"
      },
      "outputs": [],
      "source": [
        "deep_ms1440_60 = load_model(\"deep_ms1440_60.h5\")\n",
        "\n",
        "with open(\"h_deep_ms1440_60.json\") as f:\n",
        "    h_deep_ms1440_60 = json.load(f)"
      ]
    },
    {
      "cell_type": "code",
      "execution_count": 70,
      "metadata": {
        "colab": {
          "base_uri": "https://localhost:8080/"
        },
        "id": "Gq294vfBTVzr",
        "outputId": "8780dfa8-bdde-4d90-9a4c-c804b0f96a3c"
      },
      "outputs": [
        {
          "output_type": "stream",
          "name": "stdout",
          "text": [
            "708/708 [==============================] - 40s 56ms/step\n",
            "708/708 [==============================] - 39s 55ms/step\n",
            "708/708 [==============================] - 37s 53ms/step\n",
            "708/708 [==============================] - 39s 55ms/step\n",
            "MSE: 112.039 RMSE: 10.559 MAPE: 0.218 MAE: 4.21\n"
          ]
        }
      ],
      "source": [
        "multi_metrics(deep_ms1440_60)"
      ]
    },
    {
      "cell_type": "markdown",
      "metadata": {
        "id": "lYZjvEdLTxB_"
      },
      "source": [
        "### 60_60"
      ]
    },
    {
      "cell_type": "code",
      "execution_count": null,
      "metadata": {
        "id": "rkpqrEheONGv"
      },
      "outputs": [],
      "source": [
        "vanilla_ms60_60 = Sequential()\n",
        "vanilla_ms60_60.add(LSTM(32, activation='tanh', return_sequences=False, input_shape=(n_steps_in, n_features)))\n",
        "vanilla_ms60_60.add(Dropout(0.1))\n",
        "vanilla_ms60_60.add(Dense(n_steps_out))\n",
        "\n",
        "opt = Adam(learning_rate = 0.001)\n",
        "\n",
        "h_vanilla_ms60_60 = multi_compile_fit(vanilla_ms60_60, X_train_m_reshaped, y_train_m)"
      ]
    },
    {
      "cell_type": "code",
      "execution_count": 73,
      "metadata": {
        "id": "glU3AcnGORZd"
      },
      "outputs": [],
      "source": [
        "vanilla_ms60_60 = load_model(\"vanilla_ms60_60.h5\")\n",
        "\n",
        "with open(\"h_vanilla_ms60_60.json\") as f:\n",
        "    h_vanilla_ms60_60 = json.load(f)"
      ]
    },
    {
      "cell_type": "code",
      "execution_count": 74,
      "metadata": {
        "colab": {
          "base_uri": "https://localhost:8080/"
        },
        "id": "qN_kuH2NVbXT",
        "outputId": "4adf2524-45c2-4ee8-aef3-cef80eceb947"
      },
      "outputs": [
        {
          "output_type": "stream",
          "name": "stdout",
          "text": [
            "751/751 [==============================] - 4s 5ms/step\n",
            "751/751 [==============================] - 3s 4ms/step\n",
            "751/751 [==============================] - 3s 4ms/step\n",
            "751/751 [==============================] - 3s 3ms/step\n",
            "MSE: 107.812 RMSE: 10.348 MAPE: 0.225 MAE: 4.234\n"
          ]
        }
      ],
      "source": [
        "multi_metrics(vanilla_ms60_60)"
      ]
    },
    {
      "cell_type": "code",
      "execution_count": null,
      "metadata": {
        "id": "WXX1YtbPOPXy"
      },
      "outputs": [],
      "source": [
        "deep_ms60_60 = Sequential()\n",
        "deep_ms60_60.add(LSTM(64, activation='tanh', return_sequences=True, input_shape=(n_steps_in, n_features)))\n",
        "deep_ms60_60.add(Dropout(0.1))\n",
        "\n",
        "deep_ms60_60.add(LSTM(32, activation='tanh', return_sequences=True))\n",
        "deep_ms60_60.add(Dropout(0.1))\n",
        "\n",
        "deep_ms60_60.add(LSTM(16, activation='tanh'))\n",
        "deep_ms60_60.add(Dropout(0.1))\n",
        "\n",
        "deep_ms60_60.add(Dense(32, activation='tanh'))\n",
        "deep_ms60_60.add(Dropout(0.1))\n",
        "\n",
        "deep_ms60_60.add(Dense(n_steps_out))\n",
        "\n",
        "opt = Adam(learning_rate = 0.001)\n",
        "\n",
        "h_deep_ms60_60 = single_compile_fit(deep_ms60_60, X_train_m_reshaped, y_train_m)"
      ]
    },
    {
      "cell_type": "code",
      "source": [
        "vanilla_ms60_60 = load_model(\"deep_ms60_60.h5\")\n",
        "\n",
        "with open(\"h_deep_ms60_60.json\") as f:\n",
        "    h_vanilla_ms60_60 = json.load(f)"
      ],
      "metadata": {
        "id": "b1ZMiTBO1gQs"
      },
      "execution_count": 75,
      "outputs": []
    },
    {
      "cell_type": "code",
      "execution_count": 76,
      "metadata": {
        "id": "7Ippp0PRbXtK",
        "colab": {
          "base_uri": "https://localhost:8080/"
        },
        "outputId": "78361243-17f7-420c-faf3-7b17d14de2f3"
      },
      "outputs": [
        {
          "output_type": "stream",
          "name": "stdout",
          "text": [
            "751/751 [==============================] - 4s 5ms/step\n",
            "751/751 [==============================] - 4s 5ms/step\n",
            "751/751 [==============================] - 4s 6ms/step\n",
            "751/751 [==============================] - 3s 5ms/step\n",
            "MSE: 185.068 RMSE: 13.604 MAPE: 0.522 MAE: 7.04\n"
          ]
        }
      ],
      "source": [
        "multi_metrics(deep_ms60_60)"
      ]
    },
    {
      "cell_type": "markdown",
      "metadata": {
        "id": "P3A2HooFeYSo"
      },
      "source": [
        "### Saving Variables"
      ]
    },
    {
      "cell_type": "code",
      "execution_count": null,
      "metadata": {
        "id": "qy3tToiNcTkz"
      },
      "outputs": [],
      "source": [
        "vanillas_list = [\n",
        "    ('vanilla_ms1440_60', h_vanilla_ms1440_60),\n",
        "    ('vanilla_ms60_60', h_vanilla_ms60_60)]\n",
        "\n",
        "ms_vanillas_dict = {}\n",
        "\n",
        "for var_name, _ in vanillas_list:\n",
        "    ms_vanillas_dict[var_name] = []\n",
        "\n",
        "for var_name, element in vanillas_list:\n",
        "    for key in element.keys():\n",
        "        ms_vanillas_dict[var_name].append({key : element[key][-1]})"
      ]
    },
    {
      "cell_type": "code",
      "execution_count": null,
      "metadata": {
        "id": "rKjhQZN3cU8U"
      },
      "outputs": [],
      "source": [
        "deep_list = [\n",
        "    ('deep_ms1440_60', h_deep_ms1440_60),\n",
        "    ('deep_ms60_60', h_deep_ms60_60)]\n",
        "\n",
        "ms_deep_dict = {}\n",
        "\n",
        "for var_name, _ in deep_list:\n",
        "    ms_deep_dict[var_name] = []\n",
        "\n",
        "for var_name, element in deep_list:\n",
        "    for key in element.keys():\n",
        "        ms_deep_dict[var_name].append({key : element[key][-1]})\n",
        "\n",
        "\n",
        "ms_vanillas_dict.update(ms_deep_dict)\n",
        "\n",
        "ms_dict = ms_vanillas_dict"
      ]
    },
    {
      "cell_type": "markdown",
      "source": [
        "## Tuning Attempt"
      ],
      "metadata": {
        "id": "-HwcHkLFKIWn"
      }
    },
    {
      "cell_type": "code",
      "source": [
        "tuned_model = keras.models.load_model(\"tun2_deep_ms1440_60.h5\")"
      ],
      "metadata": {
        "id": "gKDLVEz3KJiC"
      },
      "execution_count": 81,
      "outputs": []
    },
    {
      "cell_type": "code",
      "source": [
        "tuned_model.summary()"
      ],
      "metadata": {
        "id": "pYU8UoY0PgkT",
        "colab": {
          "base_uri": "https://localhost:8080/"
        },
        "outputId": "521e8a82-2aff-4805-e11c-e03772b1bd18"
      },
      "execution_count": 82,
      "outputs": [
        {
          "output_type": "stream",
          "name": "stdout",
          "text": [
            "Model: \"sequential_16\"\n",
            "_________________________________________________________________\n",
            " Layer (type)                Output Shape              Param #   \n",
            "=================================================================\n",
            " lstm_37 (LSTM)              (None, 1440, 100)         40800     \n",
            "                                                                 \n",
            " lstm_38 (LSTM)              (None, 100)               80400     \n",
            "                                                                 \n",
            " dropout_12 (Dropout)        (None, 100)               0         \n",
            "                                                                 \n",
            " dense_24 (Dense)            (None, 60)                6060      \n",
            "                                                                 \n",
            "=================================================================\n",
            "Total params: 127,260\n",
            "Trainable params: 127,260\n",
            "Non-trainable params: 0\n",
            "_________________________________________________________________\n"
          ]
        }
      ]
    },
    {
      "cell_type": "code",
      "source": [
        "multi_metrics(tuned_model)"
      ],
      "metadata": {
        "colab": {
          "base_uri": "https://localhost:8080/"
        },
        "id": "K31qlfTUMqtT",
        "outputId": "0714332d-9f7c-499d-b202-2a0ffd75b0aa"
      },
      "execution_count": 83,
      "outputs": [
        {
          "output_type": "stream",
          "name": "stdout",
          "text": [
            "708/708 [==============================] - 25s 35ms/step\n",
            "708/708 [==============================] - 24s 33ms/step\n",
            "708/708 [==============================] - 25s 35ms/step\n",
            "708/708 [==============================] - 24s 34ms/step\n",
            "MSE: 113.634 RMSE: 10.628 MAPE: 0.222 MAE: 4.256\n"
          ]
        }
      ]
    },
    {
      "cell_type": "code",
      "source": [
        "with open(\"tun2_deep_ms1440_60.json\", \"r\") as file:\n",
        "    h_tuned_model = json.load(file)"
      ],
      "metadata": {
        "id": "lCG_xvhnKRix"
      },
      "execution_count": 84,
      "outputs": []
    },
    {
      "cell_type": "code",
      "source": [
        "loss1 = h_tuned_model['loss']\n",
        "val_loss1 = h_tuned_model['val_loss']\n",
        "\n",
        "epochs1 = range(1, len(loss1) + 1)\n",
        "\n",
        "fig = plt.figure(figsize=(16, 9))\n",
        "plt.plot(epochs1, loss1, 'bo-', label='1440_60, MSE Train')\n",
        "plt.plot(epochs1, val_loss1, 'skyblue', label='1440_60 MSE Validation')\n",
        "plt.title('Multistep Tuning: MSE Training & Validation')\n",
        "plt.xlabel('Epochs')\n",
        "plt.ylabel('Loss')\n",
        "plt.legend()\n",
        "plt.yticks(ticks = range(0, 301, 10))\n",
        "plt.show()"
      ],
      "metadata": {
        "colab": {
          "base_uri": "https://localhost:8080/",
          "height": 567
        },
        "id": "mMXU0dTtKyM2",
        "outputId": "16beb352-4588-450e-b74e-0600598d4fa7"
      },
      "execution_count": 85,
      "outputs": [
        {
          "output_type": "display_data",
          "data": {
            "text/plain": [
              "<Figure size 1152x648 with 1 Axes>"
            ],
            "image/png": "[encoded data removed]"
          },
          "metadata": {
            "needs_background": "light"
          }
        }
      ]
    }
  ],
  "metadata": {
    "accelerator": "GPU",
    "colab": {
      "collapsed_sections": [
        "ZQsmS0hxZ3TJ",
        "SN6Qu9tNN04X",
        "lYZjvEdLTxB_",
        "P3A2HooFeYSo",
        "2kQJdebJBOsG"
      ],
      "provenance": []
    },
    "gpuClass": "premium",
    "kernelspec": {
      "display_name": "Python 3",
      "name": "python3"
    },
    "language_info": {
      "name": "python"
    }
  },
  "nbformat": 4,
  "nbformat_minor": 0
}